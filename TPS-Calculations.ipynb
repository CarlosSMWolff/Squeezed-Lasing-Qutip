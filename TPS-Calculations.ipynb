{
 "cells": [
  {
   "cell_type": "markdown",
   "metadata": {},
   "source": [
    "# Calculations of $g^{(2)}(\\omega_1,\\omega_2)$ for a squeezed laser"
   ]
  },
  {
   "cell_type": "code",
   "execution_count": 1,
   "metadata": {},
   "outputs": [],
   "source": [
    "from qutip import *\n",
    "import numpy as np\n",
    "from numpy import sqrt\n",
    "import time\n",
    "import matplotlib\n",
    "import matplotlib.pyplot as plt\n",
    "from tqdm import tqdm\n",
    "\n",
    "from TPS_simulation import *\n",
    "from plot_functions import *"
   ]
  },
  {
   "cell_type": "code",
   "execution_count": 2,
   "metadata": {},
   "outputs": [],
   "source": [
    "#qutip.settings.num_cpus = 14"
   ]
  },
  {
   "cell_type": "markdown",
   "metadata": {},
   "source": [
    "Definition of parameters"
   ]
  },
  {
   "cell_type": "code",
   "execution_count": 20,
   "metadata": {},
   "outputs": [],
   "source": [
    "g = 1\n",
    "ratio = 0.01\n",
    "C = 1.1\n",
    "P = sqrt(4/(C*ratio))\n",
    "kappa = ratio*P\n",
    "gsens = 0.0001\n",
    "Gamma = 0.01\n",
    "\n",
    "# Squeezing parameter\n",
    "r = 0.4\n",
    "\n",
    "# Truncation parameter\n",
    "Ncav = 30"
   ]
  },
  {
   "cell_type": "code",
   "execution_count": 21,
   "metadata": {},
   "outputs": [],
   "source": [
    "sim = simulation(Ncav = Ncav)\n",
    "\n",
    "Delta1 = -0.5; Delta2 = 0.5;\n",
    "DeltaPair = [Delta1,Delta2]\n",
    "\n",
    "# Test\n",
    "rho_SS=sim.rhoSS(DeltaPair,g,gsens,kappa,P,Gamma,r)"
   ]
  },
  {
   "cell_type": "code",
   "execution_count": 22,
   "metadata": {},
   "outputs": [
    {
     "data": {
      "image/png": "[encoded data removed]",
      "text/plain": [
       "<Figure size 432x288 with 1 Axes>"
      ]
     },
     "metadata": {
      "needs_background": "light"
     },
     "output_type": "display_data"
    }
   ],
   "source": [
    "rhocav = rho_SS.ptrace(0)\n",
    "plt.plot(np.diagonal(rhocav))\n",
    "plt.show()"
   ]
  },
  {
   "cell_type": "code",
   "execution_count": 5,
   "metadata": {},
   "outputs": [],
   "source": [
    "nw = 21\n",
    "wgrid = np.linspace(-.1,0.1,nw)\n",
    "\n",
    "# 1D list\n",
    "DeltaList=list(zip(wgrid,-wgrid))\n",
    "\n",
    "# 2D list\n",
    "DeltaList2D = []\n",
    "for Delta1 in wgrid:\n",
    "    for Delta2 in wgrid:\n",
    "        DeltaList2D.append([Delta1,Delta2])"
   ]
  },
  {
   "cell_type": "markdown",
   "metadata": {},
   "source": [
    "## Calculations for squeezed laser"
   ]
  },
  {
   "cell_type": "code",
   "execution_count": 6,
   "metadata": {},
   "outputs": [],
   "source": [
    "r=0.4"
   ]
  },
  {
   "cell_type": "code",
   "execution_count": 8,
   "metadata": {},
   "outputs": [
    {
     "name": "stderr",
     "output_type": "stream",
     "text": [
      " 18%|█▊        | 2/11 [00:27<02:03, 13.77s/it]"
     ]
    }
   ],
   "source": [
    "g2Antidiag = np.array([sim.g2g1(DeltaPair,g,gsens,kappa,P,Gamma,r) for DeltaPair in tqdm(DeltaList)])"
   ]
  },
  {
   "cell_type": "code",
   "execution_count": null,
   "metadata": {},
   "outputs": [],
   "source": [
    "g2AntidiagParallel = np.array(parallel_map(sim.g2g1,DeltaList,(g,gsens,kappa,P,Gamma,r)))"
   ]
  },
  {
   "cell_type": "markdown",
   "metadata": {},
   "source": [
    "## 2D calculation"
   ]
  },
  {
   "cell_type": "code",
   "execution_count": null,
   "metadata": {},
   "outputs": [],
   "source": [
    "g2w1w2 = np.array([sim.g2g1(DeltaPair,g,gsens,kappa,P,Gamma,r) for DeltaPair in tqdm(DeltaList2D)])"
   ]
  },
  {
   "cell_type": "code",
   "execution_count": null,
   "metadata": {},
   "outputs": [],
   "source": [
    "g2w1w22D = g2w1w2.reshape((nw,nw))"
   ]
  },
  {
   "cell_type": "code",
   "execution_count": null,
   "metadata": {},
   "outputs": [],
   "source": [
    "np.save(f'Results/g2_w1w2_2D-r-{r}-nw-{nw}',g2w1w22D)"
   ]
  },
  {
   "cell_type": "code",
   "execution_count": null,
   "metadata": {},
   "outputs": [],
   "source": [
    "orig_cmap=orig_cmap = matplotlib.cm.coolwarm\n",
    "shifted_cmap = shiftedColorMap(orig_cmap, midpoint=0., name='shifted')\n",
    "\n",
    "plt.imshow(g2w1w22D.T, interpolation=\"none\", cmap=shifted_cmap)\n",
    "plt.colorbar()\n",
    "plt.show()"
   ]
  },
  {
   "cell_type": "code",
   "execution_count": 59,
   "metadata": {},
   "outputs": [
    {
     "data": {
      "text/plain": [
       "1.0"
      ]
     },
     "execution_count": 59,
     "metadata": {},
     "output_type": "execute_result"
    }
   ],
   "source": [
    "CSIviolation = np.zeros((nw,nw))\n",
    "\n",
    "for i in range(nw):\n",
    "    for j in range(nw):\n",
    "        CSIviolation[i,j]=g2w1w22D[i,j]/sqrt(g2w1w22D[i,i]*g2w1w22D[j,j])\n",
    "\n",
    "np.max(CSIviolation)"
   ]
  },
  {
   "cell_type": "code",
   "execution_count": 24,
   "metadata": {},
   "outputs": [
    {
     "data": {
      "image/png": "[encoded data removed]",
      "text/plain": [
       "<Figure size 432x288 with 1 Axes>"
      ]
     },
     "metadata": {
      "needs_background": "light"
     },
     "output_type": "display_data"
    }
   ],
   "source": [
    "plt.plot(wgrid,g2Antidiag,'o',label=\"Squeezed\")\n",
    "plt.legend()\n",
    "plt.show()"
   ]
  },
  {
   "cell_type": "code",
   "execution_count": 8,
   "metadata": {},
   "outputs": [
    {
     "name": "stderr",
     "output_type": "stream",
     "text": [
      "100%|██████████| 30/30 [04:22<00:00,  8.76s/it]\n"
     ]
    }
   ],
   "source": [
    "g2Antidiag_r0 = np.array([sim.g2g1(DeltaPair,g,gsens,kappa,P,Gamma,r=0) for DeltaPair in tqdm(DeltaList)])"
   ]
  },
  {
   "cell_type": "code",
   "execution_count": 10,
   "metadata": {},
   "outputs": [
    {
     "data": {
      "image/png": "[encoded data removed]",
      "text/plain": [
       "<Figure size 432x288 with 1 Axes>"
      ]
     },
     "metadata": {
      "needs_background": "light"
     },
     "output_type": "display_data"
    }
   ],
   "source": [
    "plt.plot(wgrid,g2Antidiag,label=\"Squeezed\")\n",
    "plt.plot(wgrid,g2Antidiag_r0,label=\"Standard\")\n",
    "plt.legend()\n",
    "plt.show()"
   ]
  },
  {
   "cell_type": "markdown",
   "metadata": {},
   "source": [
    "## Load and plot results"
   ]
  },
  {
   "cell_type": "code",
   "execution_count": 2,
   "metadata": {},
   "outputs": [],
   "source": [
    "g2w1w1r0 = np.load(\"g2_w1w2_2D-r-0.0-nw-21.npy\")\n",
    "g2w1w1r04 = np.load(\"g2_w1w2_2D-r-0.4-nw-21.npy\")"
   ]
  },
  {
   "cell_type": "code",
   "execution_count": 3,
   "metadata": {},
   "outputs": [
    {
     "data": {
      "image/png": "[encoded data removed]",
      "text/plain": [
       "<Figure size 432x288 with 2 Axes>"
      ]
     },
     "metadata": {
      "needs_background": "light"
     },
     "output_type": "display_data"
    }
   ],
   "source": [
    "orig_cmap=orig_cmap = matplotlib.cm.coolwarm\n",
    "shifted_cmap = shiftedColorMap(orig_cmap, midpoint=0., name='shifted')\n",
    "\n",
    "fig, ax = plt.subplots(nrows=1,ncols=2)\n",
    "\n",
    "ax[0].imshow(np.flip(g2w1w1r0,1), interpolation=\"none\", cmap=shifted_cmap)\n",
    "ax[1].imshow(np.flip(g2w1w1r04,1), interpolation=\"none\", cmap=shifted_cmap)\n",
    "\n",
    "plt.show()"
   ]
  },
  {
   "cell_type": "code",
   "execution_count": 4,
   "metadata": {},
   "outputs": [],
   "source": [
    "np.savetxt(\"g2w1w2r0.csv\" , g2w1w1r0, delimiter=\",\")\n",
    "np.savetxt(\"g2w1w2r04.csv\" , g2w1w1r04, delimiter=\",\")"
   ]
  }
 ],
 "metadata": {
  "kernelspec": {
   "display_name": "Python 3.10.4 ('QutipEnv')",
   "language": "python",
   "name": "python3"
  },
  "language_info": {
   "codemirror_mode": {
    "name": "ipython",
    "version": 3
   },
   "file_extension": ".py",
   "mimetype": "text/x-python",
   "name": "python",
   "nbconvert_exporter": "python",
   "pygments_lexer": "ipython3",
   "version": "3.10.4"
  },
  "orig_nbformat": 4,
  "vscode": {
   "interpreter": {
    "hash": "94bf2add63e21d5a226f1e2c3f92407d49b370b5e0e72ac7b5d01d501beeef5b"
   }
  }
 },
 "nbformat": 4,
 "nbformat_minor": 2
}
