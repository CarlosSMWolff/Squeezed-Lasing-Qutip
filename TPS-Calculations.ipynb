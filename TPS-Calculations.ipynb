{
 "cells": [
  {
   "cell_type": "markdown",
   "metadata": {},
   "source": [
    "# Calculations of $g^{(2)}(\\omega_1,\\omega_2)$ for a squeezed laser"
   ]
  },
  {
   "cell_type": "code",
   "execution_count": 50,
   "metadata": {},
   "outputs": [],
   "source": [
    "from qutip import *\n",
    "import numpy as np\n",
    "from numpy import sqrt\n",
    "import time\n",
    "import matplotlib.pyplot as plt\n",
    "\n",
    "from functions import *\n"
   ]
  },
  {
   "cell_type": "markdown",
   "metadata": {},
   "source": [
    "Definition of parameters"
   ]
  },
  {
   "cell_type": "code",
   "execution_count": 51,
   "metadata": {},
   "outputs": [],
   "source": [
    "g = 1\n",
    "ratio = 0.01\n",
    "C = 1.\n",
    "P = sqrt(4/(C*ratio))\n",
    "kappa = ratio*P\n",
    "gsens = 0.0001\n",
    "Gamma = 0.01\n",
    "\n",
    "# Squeezing parameter\n",
    "r = 0.4\n",
    "\n",
    "# Truncation parameter\n",
    "Ncav = 60"
   ]
  },
  {
   "cell_type": "code",
   "execution_count": 52,
   "metadata": {},
   "outputs": [
    {
     "ename": "TypeError",
     "evalue": "g2g1() takes from 6 to 7 positional arguments but 8 were given",
     "output_type": "error",
     "traceback": [
      "\u001b[0;31m---------------------------------------------------------------------------\u001b[0m",
      "\u001b[0;31mTypeError\u001b[0m                                 Traceback (most recent call last)",
      "\u001b[1;32m/Users/carlos/Dropbox/La-Caixa-Junior-Leader/One-atom-laser-Squeezed-lasing/Squeezed-Lasing-Qutip/TPS-Calculations.ipynb Cell 5\u001b[0m in \u001b[0;36m<cell line: 2>\u001b[0;34m()\u001b[0m\n\u001b[1;32m      <a href='vscode-notebook-cell:/Users/carlos/Dropbox/La-Caixa-Junior-Leader/One-atom-laser-Squeezed-lasing/Squeezed-Lasing-Qutip/TPS-Calculations.ipynb#X23sZmlsZQ%3D%3D?line=0'>1</a>\u001b[0m DeltaList \u001b[39m=\u001b[39m [\u001b[39m-\u001b[39m\u001b[39m0.1\u001b[39m,\u001b[39m0.1\u001b[39m]\n\u001b[0;32m----> <a href='vscode-notebook-cell:/Users/carlos/Dropbox/La-Caixa-Junior-Leader/One-atom-laser-Squeezed-lasing/Squeezed-Lasing-Qutip/TPS-Calculations.ipynb#X23sZmlsZQ%3D%3D?line=1'>2</a>\u001b[0m g2g1(DeltaList,g,gsens,kappa,P,Gamma,r,Ncav)\n",
      "\u001b[0;31mTypeError\u001b[0m: g2g1() takes from 6 to 7 positional arguments but 8 were given"
     ]
    }
   ],
   "source": [
    "DeltaList = [-0.1,0.1]\n",
    "g2g1(DeltaList,g,gsens,kappa,P,Gamma,r,Ncav)"
   ]
  },
  {
   "cell_type": "code",
   "execution_count": 49,
   "metadata": {},
   "outputs": [
    {
     "data": {
      "text/plain": [
       "([-0.1, 0.1], 1, 0.0001, 0.2, 20.0, 0.01, 0.4, 60)"
      ]
     },
     "execution_count": 49,
     "metadata": {},
     "output_type": "execute_result"
    }
   ],
   "source": [
    "(DeltaList,g,gsens,kappa,P,Gamma,r,Ncav)"
   ]
  },
  {
   "cell_type": "code",
   "execution_count": null,
   "metadata": {},
   "outputs": [],
   "source": []
  }
 ],
 "metadata": {
  "kernelspec": {
   "display_name": "Python 3.10.4 ('QutipEnv')",
   "language": "python",
   "name": "python3"
  },
  "language_info": {
   "codemirror_mode": {
    "name": "ipython",
    "version": 3
   },
   "file_extension": ".py",
   "mimetype": "text/x-python",
   "name": "python",
   "nbconvert_exporter": "python",
   "pygments_lexer": "ipython3",
   "version": "3.10.4"
  },
  "orig_nbformat": 4,
  "vscode": {
   "interpreter": {
    "hash": "94bf2add63e21d5a226f1e2c3f92407d49b370b5e0e72ac7b5d01d501beeef5b"
   }
  }
 },
 "nbformat": 4,
 "nbformat_minor": 2
}
