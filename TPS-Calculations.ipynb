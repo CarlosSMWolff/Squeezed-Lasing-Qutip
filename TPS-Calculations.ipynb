{
 "cells": [
  {
   "cell_type": "markdown",
   "metadata": {},
   "source": [
    "# Calculations of $g^{(2)}(\\omega_1,\\omega_2)$ for a squeezed laser"
   ]
  },
  {
   "cell_type": "code",
   "execution_count": 1,
   "metadata": {},
   "outputs": [],
   "source": [
    "from qutip import *\n",
    "import numpy as np\n",
    "from numpy import sqrt\n",
    "import time\n",
    "import matplotlib.pyplot as plt\n",
    "\n",
    "from TPS_simulation import *\n",
    "from tqdm import tqdm\n",
    "\n",
    "#from functions import *"
   ]
  },
  {
   "cell_type": "markdown",
   "metadata": {},
   "source": [
    "Definition of parameters"
   ]
  },
  {
   "cell_type": "code",
   "execution_count": 2,
   "metadata": {},
   "outputs": [],
   "source": [
    "g = 1\n",
    "ratio = 0.01\n",
    "C = 1.\n",
    "P = sqrt(4/(C*ratio))\n",
    "kappa = ratio*P\n",
    "gsens = 0.0001\n",
    "Gamma = 0.01\n",
    "\n",
    "# Squeezing parameter\n",
    "r = 0.4\n",
    "\n",
    "# Truncation parameter\n",
    "Ncav = 30"
   ]
  },
  {
   "cell_type": "code",
   "execution_count": 3,
   "metadata": {},
   "outputs": [],
   "source": [
    "sim = simulation()\n",
    "\n",
    "Delta1 = -0.1; Delta2 = 0.1;\n",
    "DeltaPair = [Delta1,Delta2]\n",
    "\n",
    "# Test\n",
    "#sim.g2g1(DeltaPair,g,gsens,kappa,P,Gamma,r)"
   ]
  },
  {
   "cell_type": "code",
   "execution_count": 4,
   "metadata": {},
   "outputs": [],
   "source": [
    "wgrid = np.linspace(-.05,0.05,5)\n",
    "DeltaList=list(zip(wgrid,-wgrid))"
   ]
  },
  {
   "cell_type": "code",
   "execution_count": 5,
   "metadata": {},
   "outputs": [
    {
     "name": "stderr",
     "output_type": "stream",
     "text": [
      "100%|██████████| 5/5 [00:50<00:00, 10.07s/it]\n"
     ]
    }
   ],
   "source": [
    "r=0.4\n",
    "g2Antidiag = np.array([sim.g2g1(DeltaPair,g,gsens,kappa,P,Gamma,r) for DeltaPair in tqdm(DeltaList)])"
   ]
  },
  {
   "cell_type": "code",
   "execution_count": 7,
   "metadata": {},
   "outputs": [],
   "source": [
    "r=0.4\n",
    "g2Antidiag_Parallel = np.array(parallel_map(sim.g2g1,DeltaList,(g,gsens,kappa,P,Gamma,r) ))"
   ]
  },
  {
   "cell_type": "code",
   "execution_count": 8,
   "metadata": {},
   "outputs": [
    {
     "name": "stderr",
     "output_type": "stream",
     "text": [
      "100%|██████████| 30/30 [04:22<00:00,  8.76s/it]\n"
     ]
    }
   ],
   "source": [
    "g2Antidiag_r0 = np.array([sim.g2g1(DeltaPair,g,gsens,kappa,P,Gamma,r=0) for DeltaPair in tqdm(DeltaList)])"
   ]
  },
  {
   "cell_type": "code",
   "execution_count": 10,
   "metadata": {},
   "outputs": [
    {
     "data": {
      "image/png": "[encoded data removed]",
      "text/plain": [
       "<Figure size 432x288 with 1 Axes>"
      ]
     },
     "metadata": {
      "needs_background": "light"
     },
     "output_type": "display_data"
    }
   ],
   "source": [
    "plt.plot(wgrid,g2Antidiag,label=\"Squeezed\")\n",
    "plt.plot(wgrid,g2Antidiag_r0,label=\"Standard\")\n",
    "plt.legend()\n",
    "plt.show()"
   ]
  },
  {
   "cell_type": "code",
   "execution_count": null,
   "metadata": {},
   "outputs": [],
   "source": []
  }
 ],
 "metadata": {
  "kernelspec": {
   "display_name": "Python 3.10.4 ('QutipEnv')",
   "language": "python",
   "name": "python3"
  },
  "language_info": {
   "codemirror_mode": {
    "name": "ipython",
    "version": 3
   },
   "file_extension": ".py",
   "mimetype": "text/x-python",
   "name": "python",
   "nbconvert_exporter": "python",
   "pygments_lexer": "ipython3",
   "version": "3.10.4"
  },
  "orig_nbformat": 4,
  "vscode": {
   "interpreter": {
    "hash": "94bf2add63e21d5a226f1e2c3f92407d49b370b5e0e72ac7b5d01d501beeef5b"
   }
  }
 },
 "nbformat": 4,
 "nbformat_minor": 2
}
