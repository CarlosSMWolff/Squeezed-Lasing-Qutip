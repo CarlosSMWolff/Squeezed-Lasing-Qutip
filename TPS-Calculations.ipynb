{
 "cells": [
  {
   "cell_type": "markdown",
   "metadata": {},
   "source": [
    "# Calculations of $g^{(2)}(\\omega_1,\\omega_2)$ for a squeezed laser"
   ]
  },
  {
   "cell_type": "code",
   "execution_count": 1,
   "metadata": {},
   "outputs": [],
   "source": [
    "from qutip import *\n",
    "import numpy as np\n",
    "from numpy import sqrt\n",
    "import time\n",
    "import matplotlib\n",
    "import matplotlib.pyplot as plt\n",
    "from tqdm import tqdm\n",
    "\n",
    "from TPS_simulation import *\n",
    "from plot_functions import *"
   ]
  },
  {
   "cell_type": "code",
   "execution_count": 2,
   "metadata": {},
   "outputs": [],
   "source": [
    "#qutip.settings.num_cpus = 14"
   ]
  },
  {
   "cell_type": "markdown",
   "metadata": {},
   "source": [
    "Definition of parameters"
   ]
  },
  {
   "cell_type": "code",
   "execution_count": 3,
   "metadata": {},
   "outputs": [],
   "source": [
    "g = 1\n",
    "ratio = 0.01\n",
    "C = 1.\n",
    "P = sqrt(4/(C*ratio))\n",
    "kappa = ratio*P\n",
    "gsens = 0.0001\n",
    "Gamma = 0.01\n",
    "\n",
    "# Squeezing parameter\n",
    "r = 0.4\n",
    "\n",
    "# Truncation parameter\n",
    "Ncav = 30"
   ]
  },
  {
   "cell_type": "code",
   "execution_count": 4,
   "metadata": {},
   "outputs": [],
   "source": [
    "sim = simulation()\n",
    "\n",
    "Delta1 = -0.5; Delta2 = 0.5;\n",
    "DeltaPair = [Delta1,Delta2]\n",
    "\n",
    "# Test\n",
    "#sim.g2g1(DeltaPair,g,gsens,kappa,P,Gamma,r)"
   ]
  },
  {
   "cell_type": "code",
   "execution_count": 5,
   "metadata": {},
   "outputs": [],
   "source": [
    "nw = 21\n",
    "wgrid = np.linspace(-.1,0.1,nw)\n",
    "\n",
    "# 1D list\n",
    "DeltaList=list(zip(wgrid,-wgrid))\n",
    "\n",
    "# 2D list\n",
    "DeltaList2D = []\n",
    "for Delta1 in wgrid:\n",
    "    for Delta2 in wgrid:\n",
    "        DeltaList2D.append([Delta1,Delta2])"
   ]
  },
  {
   "cell_type": "markdown",
   "metadata": {},
   "source": [
    "## Calculations for squeezed laser"
   ]
  },
  {
   "cell_type": "code",
   "execution_count": 6,
   "metadata": {},
   "outputs": [],
   "source": [
    "r=0.4"
   ]
  },
  {
   "cell_type": "code",
   "execution_count": 8,
   "metadata": {},
   "outputs": [
    {
     "name": "stderr",
     "output_type": "stream",
     "text": [
      " 18%|█▊        | 2/11 [00:27<02:03, 13.77s/it]"
     ]
    }
   ],
   "source": [
    "g2Antidiag = np.array([sim.g2g1(DeltaPair,g,gsens,kappa,P,Gamma,r) for DeltaPair in tqdm(DeltaList)])"
   ]
  },
  {
   "cell_type": "code",
   "execution_count": null,
   "metadata": {},
   "outputs": [],
   "source": [
    "g2AntidiagParallel = np.array(parallel_map(sim.g2g1,DeltaList,(g,gsens,kappa,P,Gamma,r)))"
   ]
  },
  {
   "cell_type": "markdown",
   "metadata": {},
   "source": [
    "## 2D calculation"
   ]
  },
  {
   "cell_type": "code",
   "execution_count": 7,
   "metadata": {},
   "outputs": [
    {
     "name": "stderr",
     "output_type": "stream",
     "text": [
      " 54%|█████▎    | 237/441 [54:13<45:45, 13.46s/it]  "
     ]
    },
    {
     "ename": "KeyboardInterrupt",
     "evalue": "",
     "output_type": "error",
     "traceback": [
      "\u001b[0;31m---------------------------------------------------------------------------\u001b[0m",
      "\u001b[0;31mKeyboardInterrupt\u001b[0m                         Traceback (most recent call last)",
      "\u001b[1;32m/Users/carlos/Dropbox/La-Caixa-Junior-Leader/One-atom-laser-Squeezed-lasing/Squeezed-Lasing-Qutip/TPS-Calculations.ipynb Cell 13\u001b[0m in \u001b[0;36m<cell line: 1>\u001b[0;34m()\u001b[0m\n\u001b[0;32m----> <a href='vscode-notebook-cell:/Users/carlos/Dropbox/La-Caixa-Junior-Leader/One-atom-laser-Squeezed-lasing/Squeezed-Lasing-Qutip/TPS-Calculations.ipynb#X13sZmlsZQ%3D%3D?line=0'>1</a>\u001b[0m g2w1w2 \u001b[39m=\u001b[39m np\u001b[39m.\u001b[39marray([sim\u001b[39m.\u001b[39mg2g1(DeltaPair,g,gsens,kappa,P,Gamma,r) \u001b[39mfor\u001b[39;00m DeltaPair \u001b[39min\u001b[39;00m tqdm(DeltaList2D)])\n",
      "\u001b[1;32m/Users/carlos/Dropbox/La-Caixa-Junior-Leader/One-atom-laser-Squeezed-lasing/Squeezed-Lasing-Qutip/TPS-Calculations.ipynb Cell 13\u001b[0m in \u001b[0;36m<listcomp>\u001b[0;34m(.0)\u001b[0m\n\u001b[0;32m----> <a href='vscode-notebook-cell:/Users/carlos/Dropbox/La-Caixa-Junior-Leader/One-atom-laser-Squeezed-lasing/Squeezed-Lasing-Qutip/TPS-Calculations.ipynb#X13sZmlsZQ%3D%3D?line=0'>1</a>\u001b[0m g2w1w2 \u001b[39m=\u001b[39m np\u001b[39m.\u001b[39marray([sim\u001b[39m.\u001b[39;49mg2g1(DeltaPair,g,gsens,kappa,P,Gamma,r) \u001b[39mfor\u001b[39;00m DeltaPair \u001b[39min\u001b[39;00m tqdm(DeltaList2D)])\n",
      "File \u001b[0;32m~/Dropbox/La-Caixa-Junior-Leader/One-atom-laser-Squeezed-lasing/Squeezed-Lasing-Qutip/TPS_simulation.py:31\u001b[0m, in \u001b[0;36msimulation.g2g1\u001b[0;34m(self, DeltaPair, g, gsens, kappa, P, Gamma, r)\u001b[0m\n\u001b[1;32m     28\u001b[0m H \u001b[39m=\u001b[39m \u001b[39mself\u001b[39m\u001b[39m.\u001b[39mgen_H(g,gsens,Delta1,Delta2,r)\n\u001b[1;32m     29\u001b[0m Lops \u001b[39m=\u001b[39m \u001b[39mself\u001b[39m\u001b[39m.\u001b[39mgen_Lops(kappa,P,Gamma)\n\u001b[0;32m---> 31\u001b[0m rho_ss \u001b[39m=\u001b[39m steadystate(H,Lops,method\u001b[39m=\u001b[39;49m\u001b[39m'\u001b[39;49m\u001b[39miterative-lgmres\u001b[39;49m\u001b[39m'\u001b[39;49m)\n\u001b[1;32m     33\u001b[0m sigma1 \u001b[39m=\u001b[39m \u001b[39mself\u001b[39m\u001b[39m.\u001b[39msigma1; sigma2 \u001b[39m=\u001b[39m \u001b[39mself\u001b[39m\u001b[39m.\u001b[39msigma2; \n\u001b[1;32m     34\u001b[0m G2w1w2 \u001b[39m=\u001b[39m expect(sigma1\u001b[39m.\u001b[39mdag()\u001b[39m*\u001b[39msigma2\u001b[39m.\u001b[39mdag()\u001b[39m*\u001b[39msigma1\u001b[39m*\u001b[39msigma2,rho_ss)\n",
      "File \u001b[0;32m~/opt/anaconda3/envs/QutipEnv/lib/python3.10/site-packages/qutip/steadystate.py:289\u001b[0m, in \u001b[0;36msteadystate\u001b[0;34m(A, c_op_list, method, solver, **kwargs)\u001b[0m\n\u001b[1;32m    285\u001b[0m     \u001b[39mreturn\u001b[39;00m _steadystate_eigen(A, ss_args)\n\u001b[1;32m    287\u001b[0m \u001b[39melif\u001b[39;00m ss_args[\u001b[39m'\u001b[39m\u001b[39mmethod\u001b[39m\u001b[39m'\u001b[39m] \u001b[39min\u001b[39;00m [\u001b[39m'\u001b[39m\u001b[39miterative-gmres\u001b[39m\u001b[39m'\u001b[39m,\n\u001b[1;32m    288\u001b[0m                            \u001b[39m'\u001b[39m\u001b[39miterative-lgmres\u001b[39m\u001b[39m'\u001b[39m, \u001b[39m'\u001b[39m\u001b[39miterative-bicgstab\u001b[39m\u001b[39m'\u001b[39m]:\n\u001b[0;32m--> 289\u001b[0m     \u001b[39mreturn\u001b[39;00m _steadystate_iterative(A, ss_args)\n\u001b[1;32m    291\u001b[0m \u001b[39melif\u001b[39;00m ss_args[\u001b[39m'\u001b[39m\u001b[39mmethod\u001b[39m\u001b[39m'\u001b[39m] \u001b[39m==\u001b[39m \u001b[39m'\u001b[39m\u001b[39msvd\u001b[39m\u001b[39m'\u001b[39m:\n\u001b[1;32m    292\u001b[0m     \u001b[39mreturn\u001b[39;00m _steadystate_svd_dense(A, ss_args)\n",
      "File \u001b[0;32m~/opt/anaconda3/envs/QutipEnv/lib/python3.10/site-packages/qutip/steadystate.py:640\u001b[0m, in \u001b[0;36m_steadystate_iterative\u001b[0;34m(L, ss_args)\u001b[0m\n\u001b[1;32m    634\u001b[0m     v, check \u001b[39m=\u001b[39m gmres(L, b, tol\u001b[39m=\u001b[39mss_args[\u001b[39m'\u001b[39m\u001b[39mtol\u001b[39m\u001b[39m'\u001b[39m], atol\u001b[39m=\u001b[39mss_args[\u001b[39m'\u001b[39m\u001b[39mmatol\u001b[39m\u001b[39m'\u001b[39m],\n\u001b[1;32m    635\u001b[0m                      M\u001b[39m=\u001b[39mss_args[\u001b[39m'\u001b[39m\u001b[39mM\u001b[39m\u001b[39m'\u001b[39m], x0\u001b[39m=\u001b[39mss_args[\u001b[39m'\u001b[39m\u001b[39mx0\u001b[39m\u001b[39m'\u001b[39m],\n\u001b[1;32m    636\u001b[0m                      restart\u001b[39m=\u001b[39mss_args[\u001b[39m'\u001b[39m\u001b[39mrestart\u001b[39m\u001b[39m'\u001b[39m],\n\u001b[1;32m    637\u001b[0m                      maxiter\u001b[39m=\u001b[39mss_args[\u001b[39m'\u001b[39m\u001b[39mmaxiter\u001b[39m\u001b[39m'\u001b[39m],\n\u001b[1;32m    638\u001b[0m                      callback\u001b[39m=\u001b[39m_iter_count, callback_type\u001b[39m=\u001b[39m\u001b[39m'\u001b[39m\u001b[39mlegacy\u001b[39m\u001b[39m'\u001b[39m)\n\u001b[1;32m    639\u001b[0m \u001b[39melif\u001b[39;00m ss_args[\u001b[39m'\u001b[39m\u001b[39mmethod\u001b[39m\u001b[39m'\u001b[39m] \u001b[39m==\u001b[39m \u001b[39m'\u001b[39m\u001b[39miterative-lgmres\u001b[39m\u001b[39m'\u001b[39m:\n\u001b[0;32m--> 640\u001b[0m     v, check \u001b[39m=\u001b[39m lgmres(L, b, tol\u001b[39m=\u001b[39;49mss_args[\u001b[39m'\u001b[39;49m\u001b[39mtol\u001b[39;49m\u001b[39m'\u001b[39;49m], atol\u001b[39m=\u001b[39;49mss_args[\u001b[39m'\u001b[39;49m\u001b[39mmatol\u001b[39;49m\u001b[39m'\u001b[39;49m],\n\u001b[1;32m    641\u001b[0m                       M\u001b[39m=\u001b[39;49mss_args[\u001b[39m'\u001b[39;49m\u001b[39mM\u001b[39;49m\u001b[39m'\u001b[39;49m], x0\u001b[39m=\u001b[39;49mss_args[\u001b[39m'\u001b[39;49m\u001b[39mx0\u001b[39;49m\u001b[39m'\u001b[39;49m],\n\u001b[1;32m    642\u001b[0m                       maxiter\u001b[39m=\u001b[39;49mss_args[\u001b[39m'\u001b[39;49m\u001b[39mmaxiter\u001b[39;49m\u001b[39m'\u001b[39;49m],\n\u001b[1;32m    643\u001b[0m                       callback\u001b[39m=\u001b[39;49m_iter_count)\n\u001b[1;32m    644\u001b[0m \u001b[39melif\u001b[39;00m ss_args[\u001b[39m'\u001b[39m\u001b[39mmethod\u001b[39m\u001b[39m'\u001b[39m] \u001b[39m==\u001b[39m \u001b[39m'\u001b[39m\u001b[39miterative-bicgstab\u001b[39m\u001b[39m'\u001b[39m:\n\u001b[1;32m    645\u001b[0m     v, check \u001b[39m=\u001b[39m bicgstab(L, b, tol\u001b[39m=\u001b[39mss_args[\u001b[39m'\u001b[39m\u001b[39mtol\u001b[39m\u001b[39m'\u001b[39m],\n\u001b[1;32m    646\u001b[0m                         atol\u001b[39m=\u001b[39mss_args[\u001b[39m'\u001b[39m\u001b[39mmatol\u001b[39m\u001b[39m'\u001b[39m],\n\u001b[1;32m    647\u001b[0m                         M\u001b[39m=\u001b[39mss_args[\u001b[39m'\u001b[39m\u001b[39mM\u001b[39m\u001b[39m'\u001b[39m], x0\u001b[39m=\u001b[39mss_args[\u001b[39m'\u001b[39m\u001b[39mx0\u001b[39m\u001b[39m'\u001b[39m],\n\u001b[1;32m    648\u001b[0m                         maxiter\u001b[39m=\u001b[39mss_args[\u001b[39m'\u001b[39m\u001b[39mmaxiter\u001b[39m\u001b[39m'\u001b[39m],\n\u001b[1;32m    649\u001b[0m                         callback\u001b[39m=\u001b[39m_iter_count)\n",
      "File \u001b[0;32m~/opt/anaconda3/envs/QutipEnv/lib/python3.10/site-packages/scipy/sparse/linalg/_isolve/lgmres.py:186\u001b[0m, in \u001b[0;36mlgmres\u001b[0;34m(A, b, x0, tol, maxiter, M, callback, inner_m, outer_k, outer_v, store_outer_Av, prepend_outer_v, atol)\u001b[0m\n\u001b[1;32m    183\u001b[0m ptol \u001b[39m=\u001b[39m \u001b[39mmin\u001b[39m(ptol_max_factor, \u001b[39mmax\u001b[39m(atol, tol\u001b[39m*\u001b[39mb_norm)\u001b[39m/\u001b[39mr_norm)\n\u001b[1;32m    185\u001b[0m \u001b[39mtry\u001b[39;00m:\n\u001b[0;32m--> 186\u001b[0m     Q, R, B, vs, zs, y, pres \u001b[39m=\u001b[39m _fgmres(matvec,\n\u001b[1;32m    187\u001b[0m                                        v0,\n\u001b[1;32m    188\u001b[0m                                        inner_m,\n\u001b[1;32m    189\u001b[0m                                        lpsolve\u001b[39m=\u001b[39;49mpsolve,\n\u001b[1;32m    190\u001b[0m                                        atol\u001b[39m=\u001b[39;49mptol,\n\u001b[1;32m    191\u001b[0m                                        outer_v\u001b[39m=\u001b[39;49mouter_v,\n\u001b[1;32m    192\u001b[0m                                        prepend_outer_v\u001b[39m=\u001b[39;49mprepend_outer_v)\n\u001b[1;32m    193\u001b[0m     y \u001b[39m*\u001b[39m\u001b[39m=\u001b[39m inner_res_0\n\u001b[1;32m    194\u001b[0m     \u001b[39mif\u001b[39;00m \u001b[39mnot\u001b[39;00m np\u001b[39m.\u001b[39misfinite(y)\u001b[39m.\u001b[39mall():\n\u001b[1;32m    195\u001b[0m         \u001b[39m# Overflow etc. in computation. There's no way to\u001b[39;00m\n\u001b[1;32m    196\u001b[0m         \u001b[39m# recover from this, so we have to bail out.\u001b[39;00m\n",
      "File \u001b[0;32m~/opt/anaconda3/envs/QutipEnv/lib/python3.10/site-packages/scipy/sparse/linalg/_isolve/_gcrotmk.py:104\u001b[0m, in \u001b[0;36m_fgmres\u001b[0;34m(matvec, v0, m, atol, lpsolve, rpsolve, cs, outer_v, prepend_outer_v)\u001b[0m\n\u001b[1;32m    101\u001b[0m     w \u001b[39m=\u001b[39m \u001b[39mNone\u001b[39;00m\n\u001b[1;32m    103\u001b[0m \u001b[39mif\u001b[39;00m w \u001b[39mis\u001b[39;00m \u001b[39mNone\u001b[39;00m:\n\u001b[0;32m--> 104\u001b[0m     w \u001b[39m=\u001b[39m lpsolve(matvec(z))\n\u001b[1;32m    105\u001b[0m \u001b[39melse\u001b[39;00m:\n\u001b[1;32m    106\u001b[0m     \u001b[39m# w is clobbered below\u001b[39;00m\n\u001b[1;32m    107\u001b[0m     w \u001b[39m=\u001b[39m w\u001b[39m.\u001b[39mcopy()\n",
      "File \u001b[0;32m~/opt/anaconda3/envs/QutipEnv/lib/python3.10/site-packages/scipy/sparse/linalg/_interface.py:232\u001b[0m, in \u001b[0;36mLinearOperator.matvec\u001b[0;34m(self, x)\u001b[0m\n\u001b[1;32m    229\u001b[0m \u001b[39mif\u001b[39;00m x\u001b[39m.\u001b[39mshape \u001b[39m!=\u001b[39m (N,) \u001b[39mand\u001b[39;00m x\u001b[39m.\u001b[39mshape \u001b[39m!=\u001b[39m (N,\u001b[39m1\u001b[39m):\n\u001b[1;32m    230\u001b[0m     \u001b[39mraise\u001b[39;00m \u001b[39mValueError\u001b[39;00m(\u001b[39m'\u001b[39m\u001b[39mdimension mismatch\u001b[39m\u001b[39m'\u001b[39m)\n\u001b[0;32m--> 232\u001b[0m y \u001b[39m=\u001b[39m \u001b[39mself\u001b[39;49m\u001b[39m.\u001b[39;49m_matvec(x)\n\u001b[1;32m    234\u001b[0m \u001b[39mif\u001b[39;00m \u001b[39misinstance\u001b[39m(x, np\u001b[39m.\u001b[39mmatrix):\n\u001b[1;32m    235\u001b[0m     y \u001b[39m=\u001b[39m asmatrix(y)\n",
      "File \u001b[0;32m~/opt/anaconda3/envs/QutipEnv/lib/python3.10/site-packages/scipy/sparse/linalg/_interface.py:199\u001b[0m, in \u001b[0;36mLinearOperator._matvec\u001b[0;34m(self, x)\u001b[0m\n\u001b[1;32m    189\u001b[0m \u001b[39mdef\u001b[39;00m \u001b[39m_matvec\u001b[39m(\u001b[39mself\u001b[39m, x):\n\u001b[1;32m    190\u001b[0m     \u001b[39m\"\"\"Default matrix-vector multiplication handler.\u001b[39;00m\n\u001b[1;32m    191\u001b[0m \n\u001b[1;32m    192\u001b[0m \u001b[39m    If self is a linear operator of shape (M, N), then this method will\u001b[39;00m\n\u001b[0;32m   (...)\u001b[0m\n\u001b[1;32m    197\u001b[0m \u001b[39m    will define matrix-vector multiplication as well.\u001b[39;00m\n\u001b[1;32m    198\u001b[0m \u001b[39m    \"\"\"\u001b[39;00m\n\u001b[0;32m--> 199\u001b[0m     \u001b[39mreturn\u001b[39;00m \u001b[39mself\u001b[39;49m\u001b[39m.\u001b[39;49mmatmat(x\u001b[39m.\u001b[39;49mreshape(\u001b[39m-\u001b[39;49m\u001b[39m1\u001b[39;49m, \u001b[39m1\u001b[39;49m))\n",
      "File \u001b[0;32m~/opt/anaconda3/envs/QutipEnv/lib/python3.10/site-packages/scipy/sparse/linalg/_interface.py:337\u001b[0m, in \u001b[0;36mLinearOperator.matmat\u001b[0;34m(self, X)\u001b[0m\n\u001b[1;32m    333\u001b[0m \u001b[39mif\u001b[39;00m X\u001b[39m.\u001b[39mshape[\u001b[39m0\u001b[39m] \u001b[39m!=\u001b[39m \u001b[39mself\u001b[39m\u001b[39m.\u001b[39mshape[\u001b[39m1\u001b[39m]:\n\u001b[1;32m    334\u001b[0m     \u001b[39mraise\u001b[39;00m \u001b[39mValueError\u001b[39;00m(\u001b[39m'\u001b[39m\u001b[39mdimension mismatch: \u001b[39m\u001b[39m%r\u001b[39;00m\u001b[39m, \u001b[39m\u001b[39m%r\u001b[39;00m\u001b[39m'\u001b[39m\n\u001b[1;32m    335\u001b[0m                      \u001b[39m%\u001b[39m (\u001b[39mself\u001b[39m\u001b[39m.\u001b[39mshape, X\u001b[39m.\u001b[39mshape))\n\u001b[0;32m--> 337\u001b[0m Y \u001b[39m=\u001b[39m \u001b[39mself\u001b[39;49m\u001b[39m.\u001b[39;49m_matmat(X)\n\u001b[1;32m    339\u001b[0m \u001b[39mif\u001b[39;00m \u001b[39misinstance\u001b[39m(Y, np\u001b[39m.\u001b[39mmatrix):\n\u001b[1;32m    340\u001b[0m     Y \u001b[39m=\u001b[39m asmatrix(Y)\n",
      "File \u001b[0;32m~/opt/anaconda3/envs/QutipEnv/lib/python3.10/site-packages/scipy/sparse/linalg/_interface.py:731\u001b[0m, in \u001b[0;36mMatrixLinearOperator._matmat\u001b[0;34m(self, X)\u001b[0m\n\u001b[1;32m    730\u001b[0m \u001b[39mdef\u001b[39;00m \u001b[39m_matmat\u001b[39m(\u001b[39mself\u001b[39m, X):\n\u001b[0;32m--> 731\u001b[0m     \u001b[39mreturn\u001b[39;00m \u001b[39mself\u001b[39;49m\u001b[39m.\u001b[39;49mA\u001b[39m.\u001b[39;49mdot(X)\n",
      "File \u001b[0;32m~/opt/anaconda3/envs/QutipEnv/lib/python3.10/site-packages/scipy/sparse/_base.py:413\u001b[0m, in \u001b[0;36mspmatrix.dot\u001b[0;34m(self, other)\u001b[0m\n\u001b[1;32m    400\u001b[0m \u001b[39mdef\u001b[39;00m \u001b[39mdot\u001b[39m(\u001b[39mself\u001b[39m, other):\n\u001b[1;32m    401\u001b[0m     \u001b[39m\"\"\"Ordinary dot product\u001b[39;00m\n\u001b[1;32m    402\u001b[0m \n\u001b[1;32m    403\u001b[0m \u001b[39m    Examples\u001b[39;00m\n\u001b[0;32m   (...)\u001b[0m\n\u001b[1;32m    411\u001b[0m \n\u001b[1;32m    412\u001b[0m \u001b[39m    \"\"\"\u001b[39;00m\n\u001b[0;32m--> 413\u001b[0m     \u001b[39mreturn\u001b[39;00m \u001b[39mself\u001b[39;49m \u001b[39m@\u001b[39;49m other\n",
      "File \u001b[0;32m~/opt/anaconda3/envs/QutipEnv/lib/python3.10/site-packages/scipy/sparse/_base.py:620\u001b[0m, in \u001b[0;36mspmatrix.__matmul__\u001b[0;34m(self, other)\u001b[0m\n\u001b[1;32m    617\u001b[0m \u001b[39mif\u001b[39;00m isscalarlike(other):\n\u001b[1;32m    618\u001b[0m     \u001b[39mraise\u001b[39;00m \u001b[39mValueError\u001b[39;00m(\u001b[39m\"\u001b[39m\u001b[39mScalar operands are not allowed, \u001b[39m\u001b[39m\"\u001b[39m\n\u001b[1;32m    619\u001b[0m                      \u001b[39m\"\u001b[39m\u001b[39muse \u001b[39m\u001b[39m'\u001b[39m\u001b[39m*\u001b[39m\u001b[39m'\u001b[39m\u001b[39m instead\u001b[39m\u001b[39m\"\u001b[39m)\n\u001b[0;32m--> 620\u001b[0m \u001b[39mreturn\u001b[39;00m \u001b[39mself\u001b[39;49m\u001b[39m.\u001b[39;49m_mul_dispatch(other)\n",
      "File \u001b[0;32m~/opt/anaconda3/envs/QutipEnv/lib/python3.10/site-packages/scipy/sparse/_base.py:523\u001b[0m, in \u001b[0;36mspmatrix._mul_dispatch\u001b[0;34m(self, other)\u001b[0m\n\u001b[1;32m    521\u001b[0m     \u001b[39mreturn\u001b[39;00m \u001b[39mself\u001b[39m\u001b[39m.\u001b[39m_mul_vector(other)\n\u001b[1;32m    522\u001b[0m \u001b[39melif\u001b[39;00m other\u001b[39m.\u001b[39mshape \u001b[39m==\u001b[39m (N, \u001b[39m1\u001b[39m):\n\u001b[0;32m--> 523\u001b[0m     \u001b[39mreturn\u001b[39;00m \u001b[39mself\u001b[39;49m\u001b[39m.\u001b[39;49m_mul_vector(other\u001b[39m.\u001b[39;49mravel())\u001b[39m.\u001b[39mreshape(M, \u001b[39m1\u001b[39m)\n\u001b[1;32m    524\u001b[0m \u001b[39melif\u001b[39;00m other\u001b[39m.\u001b[39mndim \u001b[39m==\u001b[39m \u001b[39m2\u001b[39m \u001b[39mand\u001b[39;00m other\u001b[39m.\u001b[39mshape[\u001b[39m0\u001b[39m] \u001b[39m==\u001b[39m N:\n\u001b[1;32m    525\u001b[0m     \u001b[39mreturn\u001b[39;00m \u001b[39mself\u001b[39m\u001b[39m.\u001b[39m_mul_multivector(other)\n",
      "File \u001b[0;32m~/opt/anaconda3/envs/QutipEnv/lib/python3.10/site-packages/scipy/sparse/_compressed.py:489\u001b[0m, in \u001b[0;36m_cs_matrix._mul_vector\u001b[0;34m(self, other)\u001b[0m\n\u001b[1;32m    487\u001b[0m \u001b[39m# csr_matvec or csc_matvec\u001b[39;00m\n\u001b[1;32m    488\u001b[0m fn \u001b[39m=\u001b[39m \u001b[39mgetattr\u001b[39m(_sparsetools, \u001b[39mself\u001b[39m\u001b[39m.\u001b[39mformat \u001b[39m+\u001b[39m \u001b[39m'\u001b[39m\u001b[39m_matvec\u001b[39m\u001b[39m'\u001b[39m)\n\u001b[0;32m--> 489\u001b[0m fn(M, N, \u001b[39mself\u001b[39;49m\u001b[39m.\u001b[39;49mindptr, \u001b[39mself\u001b[39;49m\u001b[39m.\u001b[39;49mindices, \u001b[39mself\u001b[39;49m\u001b[39m.\u001b[39;49mdata, other, result)\n\u001b[1;32m    491\u001b[0m \u001b[39mreturn\u001b[39;00m result\n",
      "\u001b[0;31mKeyboardInterrupt\u001b[0m: "
     ]
    }
   ],
   "source": [
    "g2w1w2 = np.array([sim.g2g1(DeltaPair,g,gsens,kappa,P,Gamma,r) for DeltaPair in tqdm(DeltaList2D)])"
   ]
  },
  {
   "cell_type": "code",
   "execution_count": null,
   "metadata": {},
   "outputs": [],
   "source": [
    "g2w1w22D = g2w1w2.reshape((nw,nw))"
   ]
  },
  {
   "cell_type": "code",
   "execution_count": null,
   "metadata": {},
   "outputs": [],
   "source": [
    "np.save(f'Results/g2_w1w2_2D-r-{r}-nw-{nw}',g2w1w22D)"
   ]
  },
  {
   "cell_type": "code",
   "execution_count": 61,
   "metadata": {},
   "outputs": [
    {
     "ename": "NameError",
     "evalue": "name 'np' is not defined",
     "output_type": "error",
     "traceback": [
      "\u001b[0;31m---------------------------------------------------------------------------\u001b[0m",
      "\u001b[0;31mNameError\u001b[0m                                 Traceback (most recent call last)",
      "\u001b[1;32m/Users/carlos/Dropbox/La-Caixa-Junior-Leader/One-atom-laser-Squeezed-lasing/Squeezed-Lasing-Qutip/TPS-Calculations.ipynb Cell 10\u001b[0m in \u001b[0;36m<cell line: 2>\u001b[0;34m()\u001b[0m\n\u001b[1;32m      <a href='vscode-notebook-cell:/Users/carlos/Dropbox/La-Caixa-Junior-Leader/One-atom-laser-Squeezed-lasing/Squeezed-Lasing-Qutip/TPS-Calculations.ipynb#X24sZmlsZQ%3D%3D?line=0'>1</a>\u001b[0m orig_cmap\u001b[39m=\u001b[39morig_cmap \u001b[39m=\u001b[39m matplotlib\u001b[39m.\u001b[39mcm\u001b[39m.\u001b[39mcoolwarm\n\u001b[0;32m----> <a href='vscode-notebook-cell:/Users/carlos/Dropbox/La-Caixa-Junior-Leader/One-atom-laser-Squeezed-lasing/Squeezed-Lasing-Qutip/TPS-Calculations.ipynb#X24sZmlsZQ%3D%3D?line=1'>2</a>\u001b[0m shifted_cmap \u001b[39m=\u001b[39m shiftedColorMap(orig_cmap, midpoint\u001b[39m=\u001b[39;49m\u001b[39m0.\u001b[39;49m, name\u001b[39m=\u001b[39;49m\u001b[39m'\u001b[39;49m\u001b[39mshifted\u001b[39;49m\u001b[39m'\u001b[39;49m)\n\u001b[1;32m      <a href='vscode-notebook-cell:/Users/carlos/Dropbox/La-Caixa-Junior-Leader/One-atom-laser-Squeezed-lasing/Squeezed-Lasing-Qutip/TPS-Calculations.ipynb#X24sZmlsZQ%3D%3D?line=3'>4</a>\u001b[0m plt\u001b[39m.\u001b[39mimshow(g2w1w22D\u001b[39m.\u001b[39mT, interpolation\u001b[39m=\u001b[39m\u001b[39m\"\u001b[39m\u001b[39mnone\u001b[39m\u001b[39m\"\u001b[39m, cmap\u001b[39m=\u001b[39mshifted_cmap)\n\u001b[1;32m      <a href='vscode-notebook-cell:/Users/carlos/Dropbox/La-Caixa-Junior-Leader/One-atom-laser-Squeezed-lasing/Squeezed-Lasing-Qutip/TPS-Calculations.ipynb#X24sZmlsZQ%3D%3D?line=4'>5</a>\u001b[0m plt\u001b[39m.\u001b[39mcolorbar()\n",
      "File \u001b[0;32m~/Dropbox/La-Caixa-Junior-Leader/One-atom-laser-Squeezed-lasing/Squeezed-Lasing-Qutip/plot_functions.py:34\u001b[0m, in \u001b[0;36mshiftedColorMap\u001b[0;34m(cmap, start, midpoint, stop, name)\u001b[0m\n\u001b[1;32m     26\u001b[0m cdict \u001b[39m=\u001b[39m {\n\u001b[1;32m     27\u001b[0m     \u001b[39m'\u001b[39m\u001b[39mred\u001b[39m\u001b[39m'\u001b[39m: [],\n\u001b[1;32m     28\u001b[0m     \u001b[39m'\u001b[39m\u001b[39mgreen\u001b[39m\u001b[39m'\u001b[39m: [],\n\u001b[1;32m     29\u001b[0m     \u001b[39m'\u001b[39m\u001b[39mblue\u001b[39m\u001b[39m'\u001b[39m: [],\n\u001b[1;32m     30\u001b[0m     \u001b[39m'\u001b[39m\u001b[39malpha\u001b[39m\u001b[39m'\u001b[39m: []\n\u001b[1;32m     31\u001b[0m }\n\u001b[1;32m     33\u001b[0m \u001b[39m# regular index to compute the colors\u001b[39;00m\n\u001b[0;32m---> 34\u001b[0m reg_index \u001b[39m=\u001b[39m np\u001b[39m.\u001b[39mlinspace(start, stop, \u001b[39m257\u001b[39m)\n\u001b[1;32m     36\u001b[0m \u001b[39m# shifted index to match the data\u001b[39;00m\n\u001b[1;32m     37\u001b[0m shift_index \u001b[39m=\u001b[39m np\u001b[39m.\u001b[39mhstack([\n\u001b[1;32m     38\u001b[0m     np\u001b[39m.\u001b[39mlinspace(\u001b[39m0.0\u001b[39m, midpoint, \u001b[39m128\u001b[39m, endpoint\u001b[39m=\u001b[39m\u001b[39mFalse\u001b[39;00m), \n\u001b[1;32m     39\u001b[0m     np\u001b[39m.\u001b[39mlinspace(midpoint, \u001b[39m1.0\u001b[39m, \u001b[39m129\u001b[39m, endpoint\u001b[39m=\u001b[39m\u001b[39mTrue\u001b[39;00m)\n\u001b[1;32m     40\u001b[0m ])\n",
      "\u001b[0;31mNameError\u001b[0m: name 'np' is not defined"
     ]
    }
   ],
   "source": [
    "orig_cmap=orig_cmap = matplotlib.cm.coolwarm\n",
    "shifted_cmap = shiftedColorMap(orig_cmap, midpoint=0., name='shifted')\n",
    "\n",
    "plt.imshow(g2w1w22D.T, interpolation=\"none\", cmap=shifted_cmap)\n",
    "plt.colorbar()\n",
    "plt.show()"
   ]
  },
  {
   "cell_type": "code",
   "execution_count": 59,
   "metadata": {},
   "outputs": [
    {
     "data": {
      "text/plain": [
       "1.0"
      ]
     },
     "execution_count": 59,
     "metadata": {},
     "output_type": "execute_result"
    }
   ],
   "source": [
    "CSIviolation = np.zeros((nw,nw))\n",
    "\n",
    "for i in range(nw):\n",
    "    for j in range(nw):\n",
    "        CSIviolation[i,j]=g2w1w22D[i,j]/sqrt(g2w1w22D[i,i]*g2w1w22D[j,j])\n",
    "\n",
    "np.max(CSIviolation)"
   ]
  },
  {
   "cell_type": "code",
   "execution_count": 24,
   "metadata": {},
   "outputs": [
    {
     "data": {
      "image/png": "[encoded data removed]",
      "text/plain": [
       "<Figure size 432x288 with 1 Axes>"
      ]
     },
     "metadata": {
      "needs_background": "light"
     },
     "output_type": "display_data"
    }
   ],
   "source": [
    "plt.plot(wgrid,g2Antidiag,'o',label=\"Squeezed\")\n",
    "plt.legend()\n",
    "plt.show()"
   ]
  },
  {
   "cell_type": "code",
   "execution_count": 8,
   "metadata": {},
   "outputs": [
    {
     "name": "stderr",
     "output_type": "stream",
     "text": [
      "100%|██████████| 30/30 [04:22<00:00,  8.76s/it]\n"
     ]
    }
   ],
   "source": [
    "g2Antidiag_r0 = np.array([sim.g2g1(DeltaPair,g,gsens,kappa,P,Gamma,r=0) for DeltaPair in tqdm(DeltaList)])"
   ]
  },
  {
   "cell_type": "code",
   "execution_count": 10,
   "metadata": {},
   "outputs": [
    {
     "data": {
      "image/png": "[encoded data removed]",
      "text/plain": [
       "<Figure size 432x288 with 1 Axes>"
      ]
     },
     "metadata": {
      "needs_background": "light"
     },
     "output_type": "display_data"
    }
   ],
   "source": [
    "plt.plot(wgrid,g2Antidiag,label=\"Squeezed\")\n",
    "plt.plot(wgrid,g2Antidiag_r0,label=\"Standard\")\n",
    "plt.legend()\n",
    "plt.show()"
   ]
  },
  {
   "cell_type": "code",
   "execution_count": null,
   "metadata": {},
   "outputs": [],
   "source": []
  }
 ],
 "metadata": {
  "kernelspec": {
   "display_name": "Python 3.10.4 ('QutipEnv')",
   "language": "python",
   "name": "python3"
  },
  "language_info": {
   "codemirror_mode": {
    "name": "ipython",
    "version": 3
   },
   "file_extension": ".py",
   "mimetype": "text/x-python",
   "name": "python",
   "nbconvert_exporter": "python",
   "pygments_lexer": "ipython3",
   "version": "3.10.4"
  },
  "orig_nbformat": 4,
  "vscode": {
   "interpreter": {
    "hash": "94bf2add63e21d5a226f1e2c3f92407d49b370b5e0e72ac7b5d01d501beeef5b"
   }
  }
 },
 "nbformat": 4,
 "nbformat_minor": 2
}
